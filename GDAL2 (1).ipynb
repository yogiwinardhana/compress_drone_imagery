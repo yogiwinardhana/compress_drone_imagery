{
  "cells": [
    {
      "cell_type": "code",
      "execution_count": null,
      "metadata": {
        "colab": {
          "base_uri": "https://localhost:8080/"
        },
        "id": "x4cmnMbSu9iR",
        "outputId": "b52e565d-4ebd-4c1c-d942-7a98ee612bc4"
      },
      "outputs": [
        {
          "name": "stdout",
          "output_type": "stream",
          "text": [
            "Requirement already satisfied: GDAL in /usr/local/lib/python3.10/dist-packages (3.4.3)\n"
          ]
        }
      ],
      "source": [
        "!pip install GDAL"
      ]
    },
    {
      "cell_type": "code",
      "execution_count": null,
      "metadata": {
        "id": "OO9KLvEcuzin"
      },
      "outputs": [],
      "source": [
        "import os\n",
        "import sys"
      ]
    },
    {
      "cell_type": "code",
      "execution_count": null,
      "metadata": {
        "id": "U0YxVdTsu3UX"
      },
      "outputs": [],
      "source": [
        "module_path = '/content/drive/MyDrive/innovation/compressed/'\n",
        "sys.path.append(module_path)"
      ]
    },
    {
      "cell_type": "code",
      "execution_count": null,
      "metadata": {
        "id": "PumKvyLdvMWY"
      },
      "outputs": [],
      "source": [
        "from Resolution import Resolution"
      ]
    },
    {
      "cell_type": "code",
      "execution_count": null,
      "metadata": {
        "colab": {
          "base_uri": "https://localhost:8080/"
        },
        "id": "4y636dfdrFEJ",
        "outputId": "fc091b3f-b076-4397-82a6-b9a9d7cf18c5"
      },
      "outputs": [
        {
          "output_type": "stream",
          "name": "stdout",
          "text": [
            "Drive already mounted at /content/drive; to attempt to forcibly remount, call drive.mount(\"/content/drive\", force_remount=True).\n"
          ]
        }
      ],
      "source": [
        "from google.colab import drive\n",
        "drive.mount('/content/drive')"
      ]
    },
    {
      "cell_type": "code",
      "execution_count": null,
      "metadata": {
        "id": "7bTKKttywJgV"
      },
      "outputs": [],
      "source": [
        "input_file = \"/content/drive/ARMIDALE CEMETERY AERIAL.tif\"\n",
        "output_file = \"/content/drive/ARMIDALE CEMETERY AERIAL 5 CM.tif\""
      ]
    },
    {
      "cell_type": "code",
      "execution_count": null,
      "metadata": {
        "id": "tDgDO4m3zqae"
      },
      "outputs": [],
      "source": [
        "drone_img = Resolution(input_file, output_file)"
      ]
    },
    {
      "cell_type": "code",
      "execution_count": null,
      "metadata": {
        "colab": {
          "base_uri": "https://localhost:8080/"
        },
        "id": "WuMUBKekvU7D",
        "outputId": "16f17461-c03d-433a-f97f-855b9cddca19"
      },
      "outputs": [
        {
          "output_type": "stream",
          "name": "stdout",
          "text": [
            "X Resolution: 0.0101 units per pixel\n",
            "Y Resolution: 0.0101 units per pixel\n"
          ]
        },
        {
          "output_type": "execute_result",
          "data": {
            "text/plain": [
              "(0.0101, 0.0101)"
            ]
          },
          "metadata": {},
          "execution_count": 14
        }
      ],
      "source": [
        "drone_img.get_resolution()"
      ]
    },
    {
      "cell_type": "code",
      "execution_count": null,
      "metadata": {
        "colab": {
          "base_uri": "https://localhost:8080/"
        },
        "id": "jzxKCWPGzchn",
        "outputId": "07c83004-ddc2-4a0b-daac-606651a97703"
      },
      "outputs": [
        {
          "output_type": "stream",
          "name": "stdout",
          "text": [
            "Drone imagery compressed\n"
          ]
        }
      ],
      "source": [
        "drone_img.resample_raster(0.1, 0.1)"
      ]
    },
    {
      "cell_type": "code",
      "source": [],
      "metadata": {
        "id": "coEas61MCtg7"
      },
      "execution_count": null,
      "outputs": []
    },
    {
      "cell_type": "code",
      "source": [],
      "metadata": {
        "id": "Ge-Z6M_5CuRQ"
      },
      "execution_count": null,
      "outputs": []
    },
    {
      "cell_type": "code",
      "source": [],
      "metadata": {
        "id": "D2spQ9y5Cu0Z"
      },
      "execution_count": null,
      "outputs": []
    },
    {
      "cell_type": "code",
      "source": [],
      "metadata": {
        "id": "9FsDjVcZCvGt"
      },
      "execution_count": null,
      "outputs": []
    },
    {
      "cell_type": "code",
      "source": [],
      "metadata": {
        "id": "JTfhQ_mbCwx_"
      },
      "execution_count": null,
      "outputs": []
    },
    {
      "cell_type": "code",
      "source": [],
      "metadata": {
        "id": "QZqgrc1gCvY5"
      },
      "execution_count": null,
      "outputs": []
    },
    {
      "cell_type": "code",
      "source": [],
      "metadata": {
        "id": "SvoelofVCvpl"
      },
      "execution_count": null,
      "outputs": []
    },
    {
      "cell_type": "markdown",
      "source": [
        "# Check Metadata Input File"
      ],
      "metadata": {
        "id": "qXVUzDLxCyMd"
      }
    },
    {
      "cell_type": "code",
      "source": [
        "from osgeo import gdal, osr\n",
        "from os.path import exists\n",
        "from osgeo import gdal\n",
        "\n",
        "def GetGeoInfo(FileName):\n",
        "    \"\"\"This gets information from the raster file using gdal\n",
        "\n",
        "    Args:\n",
        "        FileName (str): The filename (with path and extension) of the raster.\n",
        "\n",
        "    Return:\n",
        "        tuple: A tuple containing:\n",
        "            - NDV (float): The nodata value.\n",
        "            - xsize (int): Cell size in the x-direction.\n",
        "            - ysize (int): Cell size in the y-direction.\n",
        "            - GeoT (tuple): The transform parameters (a tuple of 6 values).\n",
        "            - Projection (str): The Projection as a WKT string.\n",
        "            - DataType (str): The data type of the raster.\n",
        "\n",
        "    Author: SMM\n",
        "    \"\"\"\n",
        "\n",
        "    if not exists(FileName):\n",
        "        raise FileNotFoundError(f\"The file '{FileName}' does not exist.\")\n",
        "\n",
        "    SourceDS = gdal.Open(FileName, gdal.GA_ReadOnly)\n",
        "    if SourceDS is None:\n",
        "        raise Exception(\"Unable to read the data file\")\n",
        "\n",
        "    NDV = SourceDS.GetRasterBand(1).GetNoDataValue()\n",
        "    xsize = SourceDS.RasterXSize\n",
        "    ysize = SourceDS.RasterYSize\n",
        "    GeoT = SourceDS.GetGeoTransform()\n",
        "    Projection = osr.SpatialReference()\n",
        "    Projection.ImportFromWkt(SourceDS.GetProjectionRef())\n",
        "    DataType = SourceDS.GetRasterBand(1).DataType\n",
        "\n",
        "    # return NDV, xsize, ysize, GeoT, Projection.ExportToWkt(), DataType\n",
        "    return Projection.ExportToWkt()"
      ],
      "metadata": {
        "id": "-RfAPpXMCRGJ"
      },
      "execution_count": null,
      "outputs": []
    },
    {
      "cell_type": "code",
      "source": [
        "GetGeoInfo(input_file)"
      ],
      "metadata": {
        "colab": {
          "base_uri": "https://localhost:8080/",
          "height": 122
        },
        "id": "eR-MxY08CUaV",
        "outputId": "7c996eed-9c01-467f-853a-7434984b7950"
      },
      "execution_count": null,
      "outputs": [
        {
          "output_type": "execute_result",
          "data": {
            "text/plain": [
              "'PROJCS[\"WGS 84 / UTM zone 56S\",GEOGCS[\"WGS 84\",DATUM[\"WGS_1984\",SPHEROID[\"WGS 84\",6378137,298.257223563,AUTHORITY[\"EPSG\",\"7030\"]],AUTHORITY[\"EPSG\",\"6326\"]],PRIMEM[\"Greenwich\",0,AUTHORITY[\"EPSG\",\"8901\"]],UNIT[\"degree\",0.0174532925199433,AUTHORITY[\"EPSG\",\"9122\"]],AUTHORITY[\"EPSG\",\"4326\"]],PROJECTION[\"Transverse_Mercator\"],PARAMETER[\"latitude_of_origin\",0],PARAMETER[\"central_meridian\",153],PARAMETER[\"scale_factor\",0.9996],PARAMETER[\"false_easting\",500000],PARAMETER[\"false_northing\",10000000],UNIT[\"metre\",1,AUTHORITY[\"EPSG\",\"9001\"]],AXIS[\"Easting\",EAST],AXIS[\"Northing\",NORTH],AUTHORITY[\"EPSG\",\"32756\"]]'"
            ],
            "application/vnd.google.colaboratory.intrinsic+json": {
              "type": "string"
            }
          },
          "metadata": {},
          "execution_count": 7
        }
      ]
    }
  ],
  "metadata": {
    "colab": {
      "provenance": []
    },
    "kernelspec": {
      "display_name": "Python 3",
      "name": "python3"
    },
    "language_info": {
      "name": "python"
    }
  },
  "nbformat": 4,
  "nbformat_minor": 0
}